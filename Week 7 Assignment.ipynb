{
 "cells": [
  {
   "cell_type": "markdown",
   "metadata": {},
   "source": [
    "## IS 362 - Assignment 7\n",
    "#### Sanam Maharjan"
   ]
  },
  {
   "cell_type": "code",
   "execution_count": 69,
   "metadata": {},
   "outputs": [
    {
     "data": {
      "text/html": [
       "<div>\n",
       "<style>\n",
       "    .dataframe thead tr:only-child th {\n",
       "        text-align: right;\n",
       "    }\n",
       "\n",
       "    .dataframe thead th {\n",
       "        text-align: left;\n",
       "    }\n",
       "\n",
       "    .dataframe tbody tr th {\n",
       "        vertical-align: top;\n",
       "    }\n",
       "</style>\n",
       "<table border=\"1\" class=\"dataframe\">\n",
       "  <thead>\n",
       "    <tr style=\"text-align: right;\">\n",
       "      <th></th>\n",
       "      <th>Get Out</th>\n",
       "      <th>American Assassin</th>\n",
       "      <th>Transformers: The Last Knight</th>\n",
       "      <th>Spider-Man: Homecoming</th>\n",
       "      <th>Annabelle: Creation</th>\n",
       "      <th>Girls Trip</th>\n",
       "    </tr>\n",
       "  </thead>\n",
       "  <tbody>\n",
       "    <tr>\n",
       "      <th>Karma</th>\n",
       "      <td>4.0</td>\n",
       "      <td>NaN</td>\n",
       "      <td>3.5</td>\n",
       "      <td>3.5</td>\n",
       "      <td>4.0</td>\n",
       "      <td>3.0</td>\n",
       "    </tr>\n",
       "    <tr>\n",
       "      <th>Esme</th>\n",
       "      <td>NaN</td>\n",
       "      <td>4.5</td>\n",
       "      <td>3.5</td>\n",
       "      <td>3.0</td>\n",
       "      <td>4.0</td>\n",
       "      <td>5.0</td>\n",
       "    </tr>\n",
       "    <tr>\n",
       "      <th>Tsering</th>\n",
       "      <td>4.5</td>\n",
       "      <td>NaN</td>\n",
       "      <td>3.5</td>\n",
       "      <td>3.0</td>\n",
       "      <td>3.5</td>\n",
       "      <td>4.5</td>\n",
       "    </tr>\n",
       "    <tr>\n",
       "      <th>Dilip</th>\n",
       "      <td>NaN</td>\n",
       "      <td>5.0</td>\n",
       "      <td>4.5</td>\n",
       "      <td>4.5</td>\n",
       "      <td>NaN</td>\n",
       "      <td>NaN</td>\n",
       "    </tr>\n",
       "    <tr>\n",
       "      <th>Tams</th>\n",
       "      <td>4.5</td>\n",
       "      <td>3.5</td>\n",
       "      <td>NaN</td>\n",
       "      <td>3.5</td>\n",
       "      <td>4.0</td>\n",
       "      <td>4.0</td>\n",
       "    </tr>\n",
       "  </tbody>\n",
       "</table>\n",
       "</div>"
      ],
      "text/plain": [
       "         Get Out  American Assassin  Transformers: The Last Knight  \\\n",
       "Karma        4.0                NaN                            3.5   \n",
       "Esme         NaN                4.5                            3.5   \n",
       "Tsering      4.5                NaN                            3.5   \n",
       "Dilip        NaN                5.0                            4.5   \n",
       "Tams         4.5                3.5                            NaN   \n",
       "\n",
       "         Spider-Man: Homecoming  Annabelle: Creation  Girls Trip  \n",
       "Karma                       3.5                  4.0         3.0  \n",
       "Esme                        3.0                  4.0         5.0  \n",
       "Tsering                     3.0                  3.5         4.5  \n",
       "Dilip                       4.5                  NaN         NaN  \n",
       "Tams                        3.5                  4.0         4.0  "
      ]
     },
     "execution_count": 69,
     "metadata": {},
     "output_type": "execute_result"
    }
   ],
   "source": [
    "# importing pandas, numpy and matplotlib\n",
    "import pandas as pd\n",
    "import numpy as np\n",
    "import matplotlib.pyplot as plt\n",
    "%matplotlib inline\n",
    "\n",
    "reviews = pd.read_csv('moviesdb.csv', index_col = 0)  # reading data from csv file\n",
    "reviews "
   ]
  },
  {
   "cell_type": "markdown",
   "metadata": {},
   "source": [
    ">  **Let's tidy the data little bit. Replacing NaN value to 0.0 **"
   ]
  },
  {
   "cell_type": "code",
   "execution_count": 70,
   "metadata": {},
   "outputs": [
    {
     "data": {
      "text/html": [
       "<div>\n",
       "<style>\n",
       "    .dataframe thead tr:only-child th {\n",
       "        text-align: right;\n",
       "    }\n",
       "\n",
       "    .dataframe thead th {\n",
       "        text-align: left;\n",
       "    }\n",
       "\n",
       "    .dataframe tbody tr th {\n",
       "        vertical-align: top;\n",
       "    }\n",
       "</style>\n",
       "<table border=\"1\" class=\"dataframe\">\n",
       "  <thead>\n",
       "    <tr style=\"text-align: right;\">\n",
       "      <th></th>\n",
       "      <th>Get Out</th>\n",
       "      <th>American Assassin</th>\n",
       "      <th>Transformers: The Last Knight</th>\n",
       "      <th>Spider-Man: Homecoming</th>\n",
       "      <th>Annabelle: Creation</th>\n",
       "      <th>Girls Trip</th>\n",
       "    </tr>\n",
       "  </thead>\n",
       "  <tbody>\n",
       "    <tr>\n",
       "      <th>Karma</th>\n",
       "      <td>4.0</td>\n",
       "      <td>0.0</td>\n",
       "      <td>3.5</td>\n",
       "      <td>3.5</td>\n",
       "      <td>4.0</td>\n",
       "      <td>3.0</td>\n",
       "    </tr>\n",
       "    <tr>\n",
       "      <th>Esme</th>\n",
       "      <td>0.0</td>\n",
       "      <td>4.5</td>\n",
       "      <td>3.5</td>\n",
       "      <td>3.0</td>\n",
       "      <td>4.0</td>\n",
       "      <td>5.0</td>\n",
       "    </tr>\n",
       "    <tr>\n",
       "      <th>Tsering</th>\n",
       "      <td>4.5</td>\n",
       "      <td>0.0</td>\n",
       "      <td>3.5</td>\n",
       "      <td>3.0</td>\n",
       "      <td>3.5</td>\n",
       "      <td>4.5</td>\n",
       "    </tr>\n",
       "    <tr>\n",
       "      <th>Dilip</th>\n",
       "      <td>0.0</td>\n",
       "      <td>5.0</td>\n",
       "      <td>4.5</td>\n",
       "      <td>4.5</td>\n",
       "      <td>0.0</td>\n",
       "      <td>0.0</td>\n",
       "    </tr>\n",
       "    <tr>\n",
       "      <th>Tams</th>\n",
       "      <td>4.5</td>\n",
       "      <td>3.5</td>\n",
       "      <td>0.0</td>\n",
       "      <td>3.5</td>\n",
       "      <td>4.0</td>\n",
       "      <td>4.0</td>\n",
       "    </tr>\n",
       "  </tbody>\n",
       "</table>\n",
       "</div>"
      ],
      "text/plain": [
       "         Get Out  American Assassin  Transformers: The Last Knight  \\\n",
       "Karma        4.0                0.0                            3.5   \n",
       "Esme         0.0                4.5                            3.5   \n",
       "Tsering      4.5                0.0                            3.5   \n",
       "Dilip        0.0                5.0                            4.5   \n",
       "Tams         4.5                3.5                            0.0   \n",
       "\n",
       "         Spider-Man: Homecoming  Annabelle: Creation  Girls Trip  \n",
       "Karma                       3.5                  4.0         3.0  \n",
       "Esme                        3.0                  4.0         5.0  \n",
       "Tsering                     3.0                  3.5         4.5  \n",
       "Dilip                       4.5                  0.0         0.0  \n",
       "Tams                        3.5                  4.0         4.0  "
      ]
     },
     "execution_count": 70,
     "metadata": {},
     "output_type": "execute_result"
    }
   ],
   "source": [
    "remove_null = reviews.fillna(0.0)\n",
    "remove_null"
   ]
  },
  {
   "cell_type": "markdown",
   "metadata": {},
   "source": [
    "> ***Exporting cleaned data into new csv file so we can keep the original data and cleaned data. ***"
   ]
  },
  {
   "cell_type": "code",
   "execution_count": 71,
   "metadata": {},
   "outputs": [
    {
     "data": {
      "text/html": [
       "<div>\n",
       "<style>\n",
       "    .dataframe thead tr:only-child th {\n",
       "        text-align: right;\n",
       "    }\n",
       "\n",
       "    .dataframe thead th {\n",
       "        text-align: left;\n",
       "    }\n",
       "\n",
       "    .dataframe tbody tr th {\n",
       "        vertical-align: top;\n",
       "    }\n",
       "</style>\n",
       "<table border=\"1\" class=\"dataframe\">\n",
       "  <thead>\n",
       "    <tr style=\"text-align: right;\">\n",
       "      <th></th>\n",
       "      <th>Get Out</th>\n",
       "      <th>American Assassin</th>\n",
       "      <th>Transformers: The Last Knight</th>\n",
       "      <th>Spider-Man: Homecoming</th>\n",
       "      <th>Annabelle: Creation</th>\n",
       "      <th>Girls Trip</th>\n",
       "    </tr>\n",
       "  </thead>\n",
       "  <tbody>\n",
       "    <tr>\n",
       "      <th>Karma</th>\n",
       "      <td>4.0</td>\n",
       "      <td>0.0</td>\n",
       "      <td>3.5</td>\n",
       "      <td>3.5</td>\n",
       "      <td>4.0</td>\n",
       "      <td>3.0</td>\n",
       "    </tr>\n",
       "    <tr>\n",
       "      <th>Esme</th>\n",
       "      <td>0.0</td>\n",
       "      <td>4.5</td>\n",
       "      <td>3.5</td>\n",
       "      <td>3.0</td>\n",
       "      <td>4.0</td>\n",
       "      <td>5.0</td>\n",
       "    </tr>\n",
       "    <tr>\n",
       "      <th>Tsering</th>\n",
       "      <td>4.5</td>\n",
       "      <td>0.0</td>\n",
       "      <td>3.5</td>\n",
       "      <td>3.0</td>\n",
       "      <td>3.5</td>\n",
       "      <td>4.5</td>\n",
       "    </tr>\n",
       "    <tr>\n",
       "      <th>Dilip</th>\n",
       "      <td>0.0</td>\n",
       "      <td>5.0</td>\n",
       "      <td>4.5</td>\n",
       "      <td>4.5</td>\n",
       "      <td>0.0</td>\n",
       "      <td>0.0</td>\n",
       "    </tr>\n",
       "    <tr>\n",
       "      <th>Tams</th>\n",
       "      <td>4.5</td>\n",
       "      <td>3.5</td>\n",
       "      <td>0.0</td>\n",
       "      <td>3.5</td>\n",
       "      <td>4.0</td>\n",
       "      <td>4.0</td>\n",
       "    </tr>\n",
       "  </tbody>\n",
       "</table>\n",
       "</div>"
      ],
      "text/plain": [
       "         Get Out  American Assassin  Transformers: The Last Knight  \\\n",
       "Karma        4.0                0.0                            3.5   \n",
       "Esme         0.0                4.5                            3.5   \n",
       "Tsering      4.5                0.0                            3.5   \n",
       "Dilip        0.0                5.0                            4.5   \n",
       "Tams         4.5                3.5                            0.0   \n",
       "\n",
       "         Spider-Man: Homecoming  Annabelle: Creation  Girls Trip  \n",
       "Karma                       3.5                  4.0         3.0  \n",
       "Esme                        3.0                  4.0         5.0  \n",
       "Tsering                     3.0                  3.5         4.5  \n",
       "Dilip                       4.5                  0.0         0.0  \n",
       "Tams                        3.5                  4.0         4.0  "
      ]
     },
     "execution_count": 71,
     "metadata": {},
     "output_type": "execute_result"
    }
   ],
   "source": [
    "remove_null.to_csv('m_reviews.csv')\n",
    "ratings = pd.read_csv('m_reviews.csv', index_col = 0)\n",
    "ratings"
   ]
  },
  {
   "cell_type": "markdown",
   "metadata": {},
   "source": [
    "> Since data is already cleaned up, we can perform our analysis to find out average ratings of each movie by each reviewer."
   ]
  },
  {
   "cell_type": "markdown",
   "metadata": {},
   "source": [
    "### Displaying average rating of each reviewer"
   ]
  },
  {
   "cell_type": "code",
   "execution_count": 72,
   "metadata": {},
   "outputs": [
    {
     "data": {
      "text/plain": [
       "Karma      3.00\n",
       "Esme       3.33\n",
       "Tsering    3.17\n",
       "Dilip      2.33\n",
       "Tams       3.25\n",
       "dtype: float64"
      ]
     },
     "execution_count": 72,
     "metadata": {},
     "output_type": "execute_result"
    }
   ],
   "source": [
    "ratings.mean(axis = 1).round(2)"
   ]
  },
  {
   "cell_type": "markdown",
   "metadata": {},
   "source": [
    "### Displaying average rating of each movie"
   ]
  },
  {
   "cell_type": "code",
   "execution_count": 73,
   "metadata": {},
   "outputs": [
    {
     "data": {
      "text/plain": [
       "Get Out                          2.6\n",
       "American Assassin                2.6\n",
       "Transformers: The Last Knight    3.0\n",
       "Spider-Man: Homecoming           3.5\n",
       "Annabelle: Creation              3.1\n",
       "Girls Trip                       3.3\n",
       "dtype: float64"
      ]
     },
     "execution_count": 73,
     "metadata": {},
     "output_type": "execute_result"
    }
   ],
   "source": [
    "ratings.mean(axis = 0).round(2)"
   ]
  },
  {
   "cell_type": "markdown",
   "metadata": {},
   "source": [
    "# NORMALIZED DATA\n",
    "> Database normalization is process used to organize a database into tables and columns. The idea is that a table should be about a specific topic and that only those columns which supports tathat topics are included. These are the three main reasons we normalize the data.\n",
    "- minimize duplicate data\n",
    "- minimize or avoid data modification issues\n",
    "- to simplify the queries\n",
    "\n",
    "> Normalization, which scales all numeric variables in the range [0,1]. One possible formula is given below:\n",
    "\n",
    "> ***<div align='center'>normalized = (x - x.min()) / (x.max() - x.min())</div>***"
   ]
  },
  {
   "cell_type": "code",
   "execution_count": 74,
   "metadata": {},
   "outputs": [
    {
     "data": {
      "text/html": [
       "<div>\n",
       "<style>\n",
       "    .dataframe thead tr:only-child th {\n",
       "        text-align: right;\n",
       "    }\n",
       "\n",
       "    .dataframe thead th {\n",
       "        text-align: left;\n",
       "    }\n",
       "\n",
       "    .dataframe tbody tr th {\n",
       "        vertical-align: top;\n",
       "    }\n",
       "</style>\n",
       "<table border=\"1\" class=\"dataframe\">\n",
       "  <thead>\n",
       "    <tr style=\"text-align: right;\">\n",
       "      <th></th>\n",
       "      <th>Get Out</th>\n",
       "      <th>American Assassin</th>\n",
       "      <th>Transformers: The Last Knight</th>\n",
       "      <th>Spider-Man: Homecoming</th>\n",
       "      <th>Annabelle: Creation</th>\n",
       "      <th>Girls Trip</th>\n",
       "    </tr>\n",
       "  </thead>\n",
       "  <tbody>\n",
       "    <tr>\n",
       "      <th>Karma</th>\n",
       "      <td>0.89</td>\n",
       "      <td>0.0</td>\n",
       "      <td>0.78</td>\n",
       "      <td>0.33</td>\n",
       "      <td>1.00</td>\n",
       "      <td>0.6</td>\n",
       "    </tr>\n",
       "    <tr>\n",
       "      <th>Esme</th>\n",
       "      <td>0.00</td>\n",
       "      <td>0.9</td>\n",
       "      <td>0.78</td>\n",
       "      <td>0.00</td>\n",
       "      <td>1.00</td>\n",
       "      <td>1.0</td>\n",
       "    </tr>\n",
       "    <tr>\n",
       "      <th>Tsering</th>\n",
       "      <td>1.00</td>\n",
       "      <td>0.0</td>\n",
       "      <td>0.78</td>\n",
       "      <td>0.00</td>\n",
       "      <td>0.88</td>\n",
       "      <td>0.9</td>\n",
       "    </tr>\n",
       "    <tr>\n",
       "      <th>Dilip</th>\n",
       "      <td>0.00</td>\n",
       "      <td>1.0</td>\n",
       "      <td>1.00</td>\n",
       "      <td>1.00</td>\n",
       "      <td>0.00</td>\n",
       "      <td>0.0</td>\n",
       "    </tr>\n",
       "    <tr>\n",
       "      <th>Tams</th>\n",
       "      <td>1.00</td>\n",
       "      <td>0.7</td>\n",
       "      <td>0.00</td>\n",
       "      <td>0.33</td>\n",
       "      <td>1.00</td>\n",
       "      <td>0.8</td>\n",
       "    </tr>\n",
       "  </tbody>\n",
       "</table>\n",
       "</div>"
      ],
      "text/plain": [
       "         Get Out  American Assassin  Transformers: The Last Knight  \\\n",
       "Karma       0.89                0.0                           0.78   \n",
       "Esme        0.00                0.9                           0.78   \n",
       "Tsering     1.00                0.0                           0.78   \n",
       "Dilip       0.00                1.0                           1.00   \n",
       "Tams        1.00                0.7                           0.00   \n",
       "\n",
       "         Spider-Man: Homecoming  Annabelle: Creation  Girls Trip  \n",
       "Karma                      0.33                 1.00         0.6  \n",
       "Esme                       0.00                 1.00         1.0  \n",
       "Tsering                    0.00                 0.88         0.9  \n",
       "Dilip                      1.00                 0.00         0.0  \n",
       "Tams                       0.33                 1.00         0.8  "
      ]
     },
     "execution_count": 74,
     "metadata": {},
     "output_type": "execute_result"
    }
   ],
   "source": [
    "data_normalized = (ratings - ratings.min())/ (ratings.max()- ratings.min())\n",
    "data_normalized.round(2)"
   ]
  },
  {
   "cell_type": "markdown",
   "metadata": {},
   "source": [
    "### Displaying normalized data average rating of reviewer"
   ]
  },
  {
   "cell_type": "code",
   "execution_count": 75,
   "metadata": {},
   "outputs": [
    {
     "data": {
      "text/plain": [
       "Karma      0.600000\n",
       "Esme       0.612963\n",
       "Tsering    0.592130\n",
       "Dilip      0.500000\n",
       "Tams       0.638889\n",
       "dtype: float64"
      ]
     },
     "execution_count": 75,
     "metadata": {},
     "output_type": "execute_result"
    },
    {
     "data": {
      "image/png": "[encoded data removed]",
      "text/plain": [
       "<matplotlib.figure.Figure at 0x173837632b0>"
      ]
     },
     "metadata": {},
     "output_type": "display_data"
    }
   ],
   "source": [
    "data_normalized.mean(axis = 1).plot()\n",
    "data_normalized.mean(axis = 1)"
   ]
  },
  {
   "cell_type": "markdown",
   "metadata": {},
   "source": [
    "### Displaying normalized data average rating of each movie"
   ]
  },
  {
   "cell_type": "code",
   "execution_count": 76,
   "metadata": {},
   "outputs": [
    {
     "data": {
      "text/plain": [
       "Get Out                          0.577778\n",
       "American Assassin                0.520000\n",
       "Transformers: The Last Knight    0.666667\n",
       "Spider-Man: Homecoming           0.333333\n",
       "Annabelle: Creation              0.775000\n",
       "Girls Trip                       0.660000\n",
       "dtype: float64"
      ]
     },
     "execution_count": 76,
     "metadata": {},
     "output_type": "execute_result"
    },
    {
     "data": {
      "image/png": "[encoded data removed]",
      "text/plain": [
       "<matplotlib.figure.Figure at 0x173836bcb70>"
      ]
     },
     "metadata": {},
     "output_type": "display_data"
    }
   ],
   "source": [
    "data_normalized.mean(axis = 0).plot()\n",
    "data_normalized.mean(axis = 0)"
   ]
  },
  {
   "cell_type": "markdown",
   "metadata": {},
   "source": [
    "# STANDARDIZED DATA\n",
    "> Standardization data is another data preprocessign method which palys a curucial role in data mining. Standardized data helps center the data around 0 and to scale in respect to standard deviation. Data can be standardized using following formula.\n",
    "\n",
    "> ***<div align='center'>standardized = (x - x.mean()) / x.std()</div>***"
   ]
  },
  {
   "cell_type": "code",
   "execution_count": 77,
   "metadata": {},
   "outputs": [
    {
     "data": {
      "text/html": [
       "<div>\n",
       "<style>\n",
       "    .dataframe thead tr:only-child th {\n",
       "        text-align: right;\n",
       "    }\n",
       "\n",
       "    .dataframe thead th {\n",
       "        text-align: left;\n",
       "    }\n",
       "\n",
       "    .dataframe tbody tr th {\n",
       "        vertical-align: top;\n",
       "    }\n",
       "</style>\n",
       "<table border=\"1\" class=\"dataframe\">\n",
       "  <thead>\n",
       "    <tr style=\"text-align: right;\">\n",
       "      <th></th>\n",
       "      <th>Get Out</th>\n",
       "      <th>American Assassin</th>\n",
       "      <th>Transformers: The Last Knight</th>\n",
       "      <th>Spider-Man: Homecoming</th>\n",
       "      <th>Annabelle: Creation</th>\n",
       "      <th>Girls Trip</th>\n",
       "    </tr>\n",
       "  </thead>\n",
       "  <tbody>\n",
       "    <tr>\n",
       "      <th>Karma</th>\n",
       "      <td>0.587686</td>\n",
       "      <td>-1.068142</td>\n",
       "      <td>0.288675</td>\n",
       "      <td>0.000000</td>\n",
       "      <td>0.515339</td>\n",
       "      <td>-0.150946</td>\n",
       "    </tr>\n",
       "    <tr>\n",
       "      <th>Esme</th>\n",
       "      <td>-1.091416</td>\n",
       "      <td>0.780566</td>\n",
       "      <td>0.288675</td>\n",
       "      <td>-0.816497</td>\n",
       "      <td>0.515339</td>\n",
       "      <td>0.855363</td>\n",
       "    </tr>\n",
       "    <tr>\n",
       "      <th>Tsering</th>\n",
       "      <td>0.797573</td>\n",
       "      <td>-1.068142</td>\n",
       "      <td>0.288675</td>\n",
       "      <td>-0.816497</td>\n",
       "      <td>0.229039</td>\n",
       "      <td>0.603786</td>\n",
       "    </tr>\n",
       "    <tr>\n",
       "      <th>Dilip</th>\n",
       "      <td>-1.091416</td>\n",
       "      <td>0.985978</td>\n",
       "      <td>0.866025</td>\n",
       "      <td>1.632993</td>\n",
       "      <td>-1.775055</td>\n",
       "      <td>-1.660410</td>\n",
       "    </tr>\n",
       "    <tr>\n",
       "      <th>Tams</th>\n",
       "      <td>0.797573</td>\n",
       "      <td>0.369742</td>\n",
       "      <td>-1.732051</td>\n",
       "      <td>0.000000</td>\n",
       "      <td>0.515339</td>\n",
       "      <td>0.352208</td>\n",
       "    </tr>\n",
       "  </tbody>\n",
       "</table>\n",
       "</div>"
      ],
      "text/plain": [
       "          Get Out  American Assassin  Transformers: The Last Knight  \\\n",
       "Karma    0.587686          -1.068142                       0.288675   \n",
       "Esme    -1.091416           0.780566                       0.288675   \n",
       "Tsering  0.797573          -1.068142                       0.288675   \n",
       "Dilip   -1.091416           0.985978                       0.866025   \n",
       "Tams     0.797573           0.369742                      -1.732051   \n",
       "\n",
       "         Spider-Man: Homecoming  Annabelle: Creation  Girls Trip  \n",
       "Karma                  0.000000             0.515339   -0.150946  \n",
       "Esme                  -0.816497             0.515339    0.855363  \n",
       "Tsering               -0.816497             0.229039    0.603786  \n",
       "Dilip                  1.632993            -1.775055   -1.660410  \n",
       "Tams                   0.000000             0.515339    0.352208  "
      ]
     },
     "execution_count": 77,
     "metadata": {},
     "output_type": "execute_result"
    }
   ],
   "source": [
    "data_standardized = (ratings - ratings.mean())/ratings.std()\n",
    "data_standardized"
   ]
  },
  {
   "cell_type": "markdown",
   "metadata": {},
   "source": [
    "### Displaying standardized data average rating of reviewer"
   ]
  },
  {
   "cell_type": "code",
   "execution_count": 78,
   "metadata": {},
   "outputs": [
    {
     "data": {
      "text/plain": [
       "Karma      0.028768\n",
       "Esme       0.088672\n",
       "Tsering    0.005739\n",
       "Dilip     -0.173648\n",
       "Tams       0.050468\n",
       "dtype: float64"
      ]
     },
     "execution_count": 78,
     "metadata": {},
     "output_type": "execute_result"
    },
    {
     "data": {
      "image/png": "[encoded data removed]",
      "text/plain": [
       "<matplotlib.figure.Figure at 0x1738348f048>"
      ]
     },
     "metadata": {},
     "output_type": "display_data"
    }
   ],
   "source": [
    "data_standardized.mean(axis=1).plot()\n",
    "data_standardized.mean(axis=1)"
   ]
  },
  {
   "cell_type": "markdown",
   "metadata": {},
   "source": [
    "### Displaying standardized data average rating of reviewer"
   ]
  },
  {
   "cell_type": "code",
   "execution_count": 68,
   "metadata": {},
   "outputs": [
    {
     "data": {
      "text/plain": [
       "Get Out                         -2.220446e-17\n",
       "American Assassin               -1.110223e-17\n",
       "Transformers: The Last Knight    4.440892e-17\n",
       "Spider-Man: Homecoming           0.000000e+00\n",
       "Annabelle: Creation             -4.440892e-17\n",
       "Girls Trip                       7.771561e-17\n",
       "dtype: float64"
      ]
     },
     "execution_count": 68,
     "metadata": {},
     "output_type": "execute_result"
    },
    {
     "data": {
      "image/png": "[encoded data removed]",
      "text/plain": [
       "<matplotlib.figure.Figure at 0x173836d98d0>"
      ]
     },
     "metadata": {},
     "output_type": "display_data"
    }
   ],
   "source": [
    "data_standardized.mean(axis=0).plot()\n",
    "data_standardized.mean(axis=0)"
   ]
  }
 ],
 "metadata": {
  "kernelspec": {
   "display_name": "Python 3",
   "language": "python",
   "name": "python3"
  },
  "language_info": {
   "codemirror_mode": {
    "name": "ipython",
    "version": 3
   },
   "file_extension": ".py",
   "mimetype": "text/x-python",
   "name": "python",
   "nbconvert_exporter": "python",
   "pygments_lexer": "ipython3",
   "version": "3.6.2"
  }
 },
 "nbformat": 4,
 "nbformat_minor": 2
}
